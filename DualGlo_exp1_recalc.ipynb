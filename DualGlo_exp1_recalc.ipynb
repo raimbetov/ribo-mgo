{
 "cells": [
  {
   "cell_type": "markdown",
   "metadata": {},
   "source": [
    "# Methylglyoxal affects translation fidelity: data analysis file"
   ]
  },
  {
   "cell_type": "code",
   "execution_count": 1,
   "metadata": {
    "tags": []
   },
   "outputs": [],
   "source": [
    "import numpy as np\n",
    "import pandas as pd\n",
    "import seaborn as sns\n",
    "import matplotlib.pyplot as plt\n",
    "import scipy.stats as stats"
   ]
  },
  {
   "cell_type": "markdown",
   "metadata": {},
   "source": [
    "## Data input and normalization"
   ]
  },
  {
   "cell_type": "markdown",
   "metadata": {},
   "source": [
    "|||\n",
    "|---|---|\n",
    "|**Rluc**|Renilla luciferase|\n",
    "|**Fluc**|firefly luciferase|\n",
    "|**280**|WT Fluc|\n",
    "|**321**|H245R (CGC) Fluc|\n",
    "|**331**|H245R (AGA) Fluc|\n",
    "|**414**|D357X Fluc|\n",
    "|**+/-**|inhibitor treatment|"
   ]
  },
  {
   "cell_type": "code",
   "execution_count": 2,
   "metadata": {
    "tags": []
   },
   "outputs": [],
   "source": [
    "# Luminescence output for Rluc\n",
    "\n",
    "ren = pd.DataFrame({\n",
    "                    \"280 -\" : [845015, 903119, 866761, 845775],\n",
    "                    \"280 +\" : [932877, 964491, 978918, 866026],\n",
    "                    \"321 -\" : [752156, 790781, 777343, 783680],\n",
    "                    \"321 +\" : [817547, 782224, 842710, 782677],\n",
    "                    \"331 -\" : [871138, 839190, 893205, 826392],\n",
    "                    \"331 +\" : [791577, 866357, 861853, 837656],\n",
    "                    \"414 -\" : [38416, 47832, 51462, 46579],\n",
    "                    \"414 +\" : [40582, 47008, 47994, 47246]\n",
    "                    })"
   ]
  },
  {
   "cell_type": "code",
   "execution_count": 3,
   "metadata": {
    "tags": []
   },
   "outputs": [],
   "source": [
    "# Luminescence output for Fluc\n",
    "\n",
    "luc = pd.DataFrame({\n",
    "                    \"280 -\" : [955753, 890900, 863502, 849463],\n",
    "                    \"280 +\" : [910469, 871900, 888673, 812031],\n",
    "                    \"321 -\" : [14568, 20458, 20577, 17842],\n",
    "                    \"321 +\" : [5368, 5943, 5748, 5153],\n",
    "                    \"331 -\" : [3731, 3599, 3258, 3537],\n",
    "                    \"331 +\" : [2825, 3035, 2999, 2701],\n",
    "                    \"414 -\" : [919, 1072, 910, 973],\n",
    "                    \"414 +\" : [717, 966, 849, 882]\n",
    "                    })"
   ]
  },
  {
   "cell_type": "code",
   "execution_count": 4,
   "metadata": {
    "collapsed": false,
    "jupyter": {
     "outputs_hidden": false
    },
    "tags": []
   },
   "outputs": [
    {
     "data": {
      "text/html": [
       "<div>\n",
       "<style scoped>\n",
       "    .dataframe tbody tr th:only-of-type {\n",
       "        vertical-align: middle;\n",
       "    }\n",
       "\n",
       "    .dataframe tbody tr th {\n",
       "        vertical-align: top;\n",
       "    }\n",
       "\n",
       "    .dataframe thead th {\n",
       "        text-align: right;\n",
       "    }\n",
       "</style>\n",
       "<table border=\"1\" class=\"dataframe\">\n",
       "  <thead>\n",
       "    <tr style=\"text-align: right;\">\n",
       "      <th></th>\n",
       "      <th>280 -</th>\n",
       "      <th>280 +</th>\n",
       "      <th>321 -</th>\n",
       "      <th>321 +</th>\n",
       "      <th>331 -</th>\n",
       "      <th>331 +</th>\n",
       "      <th>414 -</th>\n",
       "      <th>414 +</th>\n",
       "    </tr>\n",
       "  </thead>\n",
       "  <tbody>\n",
       "    <tr>\n",
       "      <th>0</th>\n",
       "      <td>1.131049</td>\n",
       "      <td>0.975980</td>\n",
       "      <td>0.019368</td>\n",
       "      <td>0.006566</td>\n",
       "      <td>0.004283</td>\n",
       "      <td>0.003569</td>\n",
       "      <td>0.023922</td>\n",
       "      <td>0.017668</td>\n",
       "    </tr>\n",
       "    <tr>\n",
       "      <th>1</th>\n",
       "      <td>0.986470</td>\n",
       "      <td>0.904000</td>\n",
       "      <td>0.025871</td>\n",
       "      <td>0.007598</td>\n",
       "      <td>0.004289</td>\n",
       "      <td>0.003503</td>\n",
       "      <td>0.022412</td>\n",
       "      <td>0.020550</td>\n",
       "    </tr>\n",
       "    <tr>\n",
       "      <th>2</th>\n",
       "      <td>0.996240</td>\n",
       "      <td>0.907811</td>\n",
       "      <td>0.026471</td>\n",
       "      <td>0.006821</td>\n",
       "      <td>0.003648</td>\n",
       "      <td>0.003480</td>\n",
       "      <td>0.017683</td>\n",
       "      <td>0.017690</td>\n",
       "    </tr>\n",
       "    <tr>\n",
       "      <th>3</th>\n",
       "      <td>1.004360</td>\n",
       "      <td>0.937652</td>\n",
       "      <td>0.022767</td>\n",
       "      <td>0.006584</td>\n",
       "      <td>0.004280</td>\n",
       "      <td>0.003224</td>\n",
       "      <td>0.020889</td>\n",
       "      <td>0.018668</td>\n",
       "    </tr>\n",
       "  </tbody>\n",
       "</table>\n",
       "</div>"
      ],
      "text/plain": [
       "      280 -     280 +     321 -     321 +     331 -     331 +     414 -  \\\n",
       "0  1.131049  0.975980  0.019368  0.006566  0.004283  0.003569  0.023922   \n",
       "1  0.986470  0.904000  0.025871  0.007598  0.004289  0.003503  0.022412   \n",
       "2  0.996240  0.907811  0.026471  0.006821  0.003648  0.003480  0.017683   \n",
       "3  1.004360  0.937652  0.022767  0.006584  0.004280  0.003224  0.020889   \n",
       "\n",
       "      414 +  \n",
       "0  0.017668  \n",
       "1  0.020550  \n",
       "2  0.017690  \n",
       "3  0.018668  "
      ]
     },
     "execution_count": 4,
     "metadata": {},
     "output_type": "execute_result"
    }
   ],
   "source": [
    "# Luminescence normalization\n",
    "\n",
    "norm = luc/ren\n",
    "norm"
   ]
  },
  {
   "cell_type": "markdown",
   "metadata": {},
   "source": [
    "## Normalized signal data plots and Student's t-tests"
   ]
  },
  {
   "cell_type": "markdown",
   "metadata": {},
   "source": [
    "### Near-cognate misreading"
   ]
  },
  {
   "cell_type": "code",
   "execution_count": 5,
   "metadata": {
    "collapsed": false,
    "jupyter": {
     "outputs_hidden": false
    },
    "tags": []
   },
   "outputs": [
    {
     "data": {
      "text/plain": [
       "<Axes: >"
      ]
     },
     "execution_count": 5,
     "metadata": {},
     "output_type": "execute_result"
    },
    {
     "data": {
      "image/png": "[encoded data removed]",
      "text/plain": [
       "<Figure size 640x480 with 1 Axes>"
      ]
     },
     "metadata": {},
     "output_type": "display_data"
    }
   ],
   "source": [
    "colors = [\"grey\", \"red\"]\n",
    "sns.barplot(data = [norm[\"321 -\"], norm[\"321 +\"]], errorbar = \"sd\", errwidth = 2, capsize = 0.05, palette = colors)"
   ]
  },
  {
   "cell_type": "code",
   "execution_count": 6,
   "metadata": {
    "collapsed": false,
    "jupyter": {
     "outputs_hidden": false
    }
   },
   "outputs": [
    {
     "data": {
      "text/plain": [
       "TtestResult(statistic=10.132740051167092, pvalue=5.372162514379259e-05, df=6.0)"
      ]
     },
     "execution_count": 6,
     "metadata": {},
     "output_type": "execute_result"
    }
   ],
   "source": [
    "# Student's t-test for non-treated vs. treated\n",
    "\n",
    "stats.ttest_ind(norm[\"321 -\"], norm[\"321 +\"])"
   ]
  },
  {
   "cell_type": "markdown",
   "metadata": {},
   "source": [
    "### Non-cognate misreading"
   ]
  },
  {
   "cell_type": "code",
   "execution_count": 7,
   "metadata": {
    "collapsed": false,
    "jupyter": {
     "outputs_hidden": false
    }
   },
   "outputs": [
    {
     "data": {
      "text/plain": [
       "<Axes: >"
      ]
     },
     "execution_count": 7,
     "metadata": {},
     "output_type": "execute_result"
    },
    {
     "data": {
      "image/png": "[encoded data removed]",
      "text/plain": [
       "<Figure size 640x480 with 1 Axes>"
      ]
     },
     "metadata": {},
     "output_type": "display_data"
    }
   ],
   "source": [
    "sns.barplot(data = [norm[\"331 -\"], norm[\"331 +\"]], errorbar = \"sd\", errwidth = 2, capsize = 0.05, palette = colors)"
   ]
  },
  {
   "cell_type": "code",
   "execution_count": 8,
   "metadata": {
    "collapsed": false,
    "jupyter": {
     "outputs_hidden": false
    }
   },
   "outputs": [
    {
     "data": {
      "text/plain": [
       "TtestResult(statistic=3.864911473772767, pvalue=0.008314787354030519, df=6.0)"
      ]
     },
     "execution_count": 8,
     "metadata": {},
     "output_type": "execute_result"
    }
   ],
   "source": [
    "# Student's t-test for non-treated vs. treated\n",
    "\n",
    "stats.ttest_ind(norm[\"331 -\"], norm[\"331 +\"])"
   ]
  },
  {
   "cell_type": "markdown",
   "metadata": {},
   "source": [
    "### Read-through misreading"
   ]
  },
  {
   "cell_type": "code",
   "execution_count": 9,
   "metadata": {
    "collapsed": false,
    "jupyter": {
     "outputs_hidden": false
    }
   },
   "outputs": [
    {
     "data": {
      "text/plain": [
       "<Axes: >"
      ]
     },
     "execution_count": 9,
     "metadata": {},
     "output_type": "execute_result"
    },
    {
     "data": {
      "image/png": "[encoded data removed]",
      "text/plain": [
       "<Figure size 640x480 with 1 Axes>"
      ]
     },
     "metadata": {},
     "output_type": "display_data"
    }
   ],
   "source": [
    "sns.barplot(data = [norm[\"414 -\"], norm[\"414 +\"]], errorbar = \"sd\", errwidth = 2, capsize = 0.05, palette = colors)"
   ]
  },
  {
   "cell_type": "code",
   "execution_count": 10,
   "metadata": {
    "collapsed": false,
    "jupyter": {
     "outputs_hidden": false
    },
    "tags": []
   },
   "outputs": [
    {
     "data": {
      "text/plain": [
       "TtestResult(statistic=1.726958446303936, pvalue=0.13492086710042633, df=6.0)"
      ]
     },
     "execution_count": 10,
     "metadata": {},
     "output_type": "execute_result"
    }
   ],
   "source": [
    "# Student's t-test for non-treated vs. treated\n",
    "\n",
    "stats.ttest_ind(norm[\"414 -\"], norm[\"414 +\"])"
   ]
  },
  {
   "cell_type": "markdown",
   "metadata": {
    "tags": []
   },
   "source": [
    "## Renilla readout as global translation output and Student's t-tests"
   ]
  },
  {
   "cell_type": "markdown",
   "metadata": {},
   "source": [
    "### Near-cognate misreading"
   ]
  },
  {
   "cell_type": "code",
   "execution_count": 11,
   "metadata": {
    "tags": []
   },
   "outputs": [
    {
     "data": {
      "text/plain": [
       "<Axes: >"
      ]
     },
     "execution_count": 11,
     "metadata": {},
     "output_type": "execute_result"
    },
    {
     "data": {
      "image/png": "[encoded data removed]",
      "text/plain": [
       "<Figure size 640x480 with 1 Axes>"
      ]
     },
     "metadata": {},
     "output_type": "display_data"
    }
   ],
   "source": [
    "colors = [\"grey\", \"red\"]\n",
    "sns.barplot(data = [ren[\"321 -\"], ren[\"321 +\"]], errorbar = \"sd\", errwidth = 2, capsize = 0.05, palette = colors)"
   ]
  },
  {
   "cell_type": "code",
   "execution_count": 12,
   "metadata": {
    "tags": []
   },
   "outputs": [
    {
     "data": {
      "text/plain": [
       "TtestResult(statistic=-1.7901655777700847, pvalue=0.12362453468104315, df=6.0)"
      ]
     },
     "execution_count": 12,
     "metadata": {},
     "output_type": "execute_result"
    }
   ],
   "source": [
    "# Student's t-test for non-treated vs. treated\n",
    "\n",
    "stats.ttest_ind(ren[\"321 -\"], ren[\"321 +\"])"
   ]
  },
  {
   "cell_type": "markdown",
   "metadata": {},
   "source": [
    "### Non-cognate misreading"
   ]
  },
  {
   "cell_type": "code",
   "execution_count": 13,
   "metadata": {
    "tags": []
   },
   "outputs": [
    {
     "data": {
      "text/plain": [
       "<Axes: >"
      ]
     },
     "execution_count": 13,
     "metadata": {},
     "output_type": "execute_result"
    },
    {
     "data": {
      "image/png": "[encoded data removed]",
      "text/plain": [
       "<Figure size 640x480 with 1 Axes>"
      ]
     },
     "metadata": {},
     "output_type": "display_data"
    }
   ],
   "source": [
    "sns.barplot(data = [ren[\"331 -\"], ren[\"331 +\"]], errorbar = \"sd\", errwidth = 2, capsize = 0.05, palette = colors)"
   ]
  },
  {
   "cell_type": "code",
   "execution_count": 14,
   "metadata": {
    "tags": []
   },
   "outputs": [
    {
     "data": {
      "text/plain": [
       "TtestResult(statistic=0.7918057587658719, pvalue=0.45862477650351174, df=6.0)"
      ]
     },
     "execution_count": 14,
     "metadata": {},
     "output_type": "execute_result"
    }
   ],
   "source": [
    "# Student's t-test for non-treated vs. treated\n",
    "\n",
    "stats.ttest_ind(ren[\"331 -\"], ren[\"331 +\"])"
   ]
  },
  {
   "cell_type": "markdown",
   "metadata": {},
   "source": [
    "### Read-through misreading"
   ]
  },
  {
   "cell_type": "code",
   "execution_count": 15,
   "metadata": {
    "tags": []
   },
   "outputs": [
    {
     "data": {
      "text/plain": [
       "<Axes: >"
      ]
     },
     "execution_count": 15,
     "metadata": {},
     "output_type": "execute_result"
    },
    {
     "data": {
      "image/png": "[encoded data removed]",
      "text/plain": [
       "<Figure size 640x480 with 1 Axes>"
      ]
     },
     "metadata": {},
     "output_type": "display_data"
    }
   ],
   "source": [
    "sns.barplot(data = [ren[\"414 -\"], ren[\"414 +\"]], errorbar = \"sd\", errwidth = 2, capsize = 0.05, palette = colors)"
   ]
  },
  {
   "cell_type": "code",
   "execution_count": 16,
   "metadata": {
    "tags": []
   },
   "outputs": [
    {
     "data": {
      "text/plain": [
       "TtestResult(statistic=0.11230690689204381, pvalue=0.9142431696397373, df=6.0)"
      ]
     },
     "execution_count": 16,
     "metadata": {},
     "output_type": "execute_result"
    }
   ],
   "source": [
    "# Student's t-test for non-treated vs. treated\n",
    "\n",
    "stats.ttest_ind(ren[\"414 -\"], ren[\"414 +\"])"
   ]
  },
  {
   "cell_type": "markdown",
   "metadata": {},
   "source": [
    "## Effect size calculation"
   ]
  },
  {
   "cell_type": "code",
   "execution_count": 17,
   "metadata": {},
   "outputs": [],
   "source": [
    "# Define function for Cohen's d\n",
    "\n",
    "def cohens_d(sample1, sample2):\n",
    "    \"\"\"\n",
    "    Calculate Cohen's d for two samples.\n",
    "    \n",
    "    Parameters:\n",
    "    - sample1, sample2: Lists or arrays of sample data.\n",
    "    \n",
    "    Returns:\n",
    "    - Cohen's d value.\n",
    "    \"\"\"\n",
    "    mean1, mean2 = np.mean(sample1), np.mean(sample2)\n",
    "    n1, n2 = len(sample1), len(sample2)\n",
    "    std1, std2 = np.std(sample1, ddof=1), np.std(sample2, ddof=1)  # ddof=1 for sample standard deviation\n",
    "    \n",
    "    # Calculate the pooled standard deviation\n",
    "    pooled_std = np.sqrt(((n1 - 1) * std1**2 + (n2 - 1) * std2**2) / (n1 + n2 - 2))\n",
    "    \n",
    "    # Calculate Cohen's d\n",
    "    d = (mean1 - mean2) / pooled_std\n",
    "    \n",
    "    return d"
   ]
  },
  {
   "cell_type": "code",
   "execution_count": 18,
   "metadata": {},
   "outputs": [
    {
     "data": {
      "text/plain": [
       "7.164929202180776"
      ]
     },
     "execution_count": 18,
     "metadata": {},
     "output_type": "execute_result"
    }
   ],
   "source": [
    "# Near-cognate misreading\n",
    "\n",
    "cohens_d(norm[\"321 -\"], norm[\"321 +\"])"
   ]
  },
  {
   "cell_type": "code",
   "execution_count": 19,
   "metadata": {},
   "outputs": [
    {
     "data": {
      "text/plain": [
       "2.732905111790416"
      ]
     },
     "execution_count": 19,
     "metadata": {},
     "output_type": "execute_result"
    }
   ],
   "source": [
    "# Non-cognate misreading\n",
    "\n",
    "cohens_d(norm[\"331 -\"], norm[\"331 +\"])"
   ]
  },
  {
   "cell_type": "code",
   "execution_count": 20,
   "metadata": {
    "tags": []
   },
   "outputs": [
    {
     "data": {
      "text/plain": [
       "1.2211440282088972"
      ]
     },
     "execution_count": 20,
     "metadata": {},
     "output_type": "execute_result"
    }
   ],
   "source": [
    "# Read-through misreading\n",
    "\n",
    "cohens_d(norm[\"414 -\"], norm[\"414 +\"])"
   ]
  }
 ],
 "metadata": {
  "kernelspec": {
   "display_name": "Python 3 (ipykernel)",
   "language": "python",
   "name": "python3"
  },
  "language_info": {
   "codemirror_mode": {
    "name": "ipython",
    "version": 3
   },
   "file_extension": ".py",
   "mimetype": "text/x-python",
   "name": "python",
   "nbconvert_exporter": "python",
   "pygments_lexer": "ipython3",
   "version": "3.10.12"
  }
 },
 "nbformat": 4,
 "nbformat_minor": 4
}
